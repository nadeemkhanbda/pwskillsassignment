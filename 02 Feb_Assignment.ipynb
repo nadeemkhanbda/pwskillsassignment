{
 "cells": [
  {
   "cell_type": "code",
   "execution_count": 2,
   "id": "e2071dfe-29e3-48c1-ba12-d722755f2f59",
   "metadata": {},
   "outputs": [],
   "source": [
    "# Q1.  Explain with an example each when to use a for loop and a while loop.\n",
    "# While loop :- The code in a while clause will be executed as long as the while statement’s condition is True.\n",
    "# The if statement and while loop look similer The difference is in how they behave.At the end of an if clause, the program execution continues after \n",
    "# the if statement. But at the end of a while clause, the program execution jumps back to the start of the while statement. The while clause is often\n",
    "# called the while loop or just the loop.In the while loop, the condition is always checked at the start of each iteration (that is, each time the loop\n",
    "# is executed). If the condition is True, then the clause is executed, and afterward, the condition is checked again. The first time the condition is \n",
    "# found to be False, the while clause is skipped.\n",
    "# If We use while True then its called as continue loop or infinite loop. This loop will go continuoesely until You have not apply condition.To control \n",
    "# This infinite loop You can use the break and continue statement.\n",
    "\n",
    "i = 0\n",
    "while i < 5 :\n",
    "    print(\"$$$$$\")\n",
    "    i += 1\n",
    "    \n"
   ]
  },
  {
   "cell_type": "code",
   "execution_count": 4,
   "id": "a91367ef-cfea-41b2-9f6f-2bab4be3ea03",
   "metadata": {},
   "outputs": [
    {
     "name": "stdout",
     "output_type": "stream",
     "text": [
      "My name is\n",
      "NDK Five Times (0)\n",
      "NDK Five Times (1)\n",
      "NDK Five Times (2)\n",
      "NDK Five Times (3)\n",
      "NDK Five Times (4)\n"
     ]
    }
   ],
   "source": [
    "# For loop :- The while loop keeps looping while its condition is True (which is the reason for its name), but what if you want to execute a block \n",
    "# of code only a certain number of times? You can do this with a for loop statement and the range() function.\n",
    "\n",
    "print('My name is')\n",
    "for i in range(5):\n",
    "    print('NDK Five Times (' + str(i) + ')')\n",
    "\n"
   ]
  },
  {
   "cell_type": "code",
   "execution_count": 5,
   "id": "cca3ea77-5413-49a0-ac56-e4357f99493a",
   "metadata": {},
   "outputs": [
    {
     "name": "stdout",
     "output_type": "stream",
     "text": [
      "55\n"
     ]
    }
   ],
   "source": [
    "# Q2. Write a python program to print the sum and product of the first 10 natural numbers using for and while loop. \n",
    "## Firstly We will calculate the sum of first 10 natural number using for and while loop.\n",
    "# By using for loop :-\n",
    "num = 0\n",
    "sum = 0\n",
    "for i in range(1, 11):\n",
    "    num += 1\n",
    "    sum += num\n",
    "print(sum)\n"
   ]
  },
  {
   "cell_type": "code",
   "execution_count": 8,
   "id": "ed35a3b6-ddee-4e16-a3ef-9d5272c6c2af",
   "metadata": {},
   "outputs": [
    {
     "name": "stdout",
     "output_type": "stream",
     "text": [
      "55\n"
     ]
    }
   ],
   "source": [
    "# By using while loop :-\n",
    "num  = 0 \n",
    "sum = 0\n",
    "while num >= 0:\n",
    "    num += 1\n",
    "    sum += num\n",
    "    if num == 10:\n",
    "      break\n",
    "print(sum)\n"
   ]
  },
  {
   "cell_type": "code",
   "execution_count": 9,
   "id": "1cbea135-8fbc-4fb9-9ae3-2d7e0a933c78",
   "metadata": {},
   "outputs": [
    {
     "name": "stdout",
     "output_type": "stream",
     "text": [
      "3628800\n"
     ]
    }
   ],
   "source": [
    "## second We will calculate the product of first 10 natural number using for and while loop.\n",
    "# By using the for loop :-\n",
    "num = 0\n",
    "product = 1\n",
    "for i in range(1, 11):\n",
    "    num += 1\n",
    "    product *= num\n",
    "print(product)\n"
   ]
  },
  {
   "cell_type": "code",
   "execution_count": 10,
   "id": "5bfe3df5-23a6-49f0-b04c-0ef57a8437a5",
   "metadata": {},
   "outputs": [
    {
     "name": "stdout",
     "output_type": "stream",
     "text": [
      "3628800\n"
     ]
    }
   ],
   "source": [
    "# By using while loop :-\n",
    "num = 0 \n",
    "product = 1\n",
    "while True :\n",
    "    if num >= 0:\n",
    "        num += 1\n",
    "        product *= num\n",
    "        if num == 10:\n",
    "            break\n",
    "print(product)\n"
   ]
  },
  {
   "cell_type": "code",
   "execution_count": 11,
   "id": "ee2ee76a-39a2-42bf-84d8-8f38460d9752",
   "metadata": {},
   "outputs": [
    {
     "name": "stdin",
     "output_type": "stream",
     "text": [
      "Enter the electricity unit consume by You in a month.\n",
      " 310\n"
     ]
    },
    {
     "name": "stdout",
     "output_type": "stream",
     "text": [
      "6200\n"
     ]
    }
   ],
   "source": [
    "# Q3. Create a python program to compute the electricity bill for a household.The per-unit charges in rupees are as follows: For the first 100 units, \n",
    "# the user will be charged Rs. 4.5 per unit, for the next 100 units, the user will be charged Rs. 6 per unit, and for the next 100 units, the user\n",
    "# will be charged Rs. 10 per unit, After 300 units and above the user will be charged Rs. 20 per unit.\n",
    "unit_consume = int(input(\"Enter the electricity unit consume by You in a month.\\n\"))\n",
    "if unit_consume <= 100:\n",
    "    total_electricity_bill = unit_consume * 4.5\n",
    "elif unit_consume > 100 and unit_consume <= 200:\n",
    "    total_electricity_bill = unit_consume * 6\n",
    "elif unit_consume > 200 and unit_consume <= 300:\n",
    "    total_electricity_bill = unit_consume * 10\n",
    "elif unit_consume >300:\n",
    "    total_electricity_bill = unit_consume * 20\n",
    "print(total_electricity_bill)"
   ]
  },
  {
   "cell_type": "code",
   "execution_count": 13,
   "id": "da7a032f-e501-4d16-8355-76e801d32783",
   "metadata": {},
   "outputs": [
    {
     "name": "stdout",
     "output_type": "stream",
     "text": [
      "[2, 4, 5, 6, 8, 10, 12, 14, 15, 16, 18, 20, 22, 24, 25, 26, 28, 30, 32, 34, 35, 36, 38, 40, 42, 44, 45, 46, 48, 50, 52, 54, 55, 56, 58, 60, 62, 64, 65, 66, 68, 70, 72, 74, 75, 76, 78, 80, 82, 84, 85, 86, 88, 90, 92, 94, 95, 96, 98, 100]\n"
     ]
    }
   ],
   "source": [
    "# Q4. Q4. Create a list of numbers from 1 to 100. Use for loop and while loop to calculate the cube of each number and if the cube of that number is \n",
    "# divisible by 4 or 5 then append that number in a list and print that list\n",
    "list_of_number = []\n",
    "for number in range(1, 101):\n",
    "    cube = number ** 3\n",
    "    if cube % 4 == 0 or cube % 5 ==0 :\n",
    "      list_of_number.append(number)\n",
    "print(list_of_number)"
   ]
  },
  {
   "cell_type": "code",
   "execution_count": 14,
   "id": "935f2a0e-8acd-4448-98a2-9945007dbdc8",
   "metadata": {},
   "outputs": [
    {
     "name": "stdout",
     "output_type": "stream",
     "text": [
      "{'a': 4, 'e': 3, 'i': 3, 'o': 2}\n"
     ]
    }
   ],
   "source": [
    "# Q5.  Write a program to filter count vowels in the below-given string.\n",
    "\n",
    "string = \"I want to become a data scientist\"\n",
    "new_string = string.lower()\n",
    "alphabet = []\n",
    "vowel_count ={}\n",
    "for char in new_string :\n",
    "    alphabet.append(char)\n",
    "    alphabet.sort()\n",
    "for alp in alphabet:\n",
    "    if alp == \"a\" or alp == \"e\" or alp == \"i\" or alp == \"o\" or alp ==\"u\" :\n",
    "        vowel_count[alp] = alphabet.count(alp)\n",
    "print(vowel_count)"
   ]
  }
 ],
 "metadata": {
  "kernelspec": {
   "display_name": "Python 3 (ipykernel)",
   "language": "python",
   "name": "python3"
  },
  "language_info": {
   "codemirror_mode": {
    "name": "ipython",
    "version": 3
   },
   "file_extension": ".py",
   "mimetype": "text/x-python",
   "name": "python",
   "nbconvert_exporter": "python",
   "pygments_lexer": "ipython3",
   "version": "3.10.8"
  }
 },
 "nbformat": 4,
 "nbformat_minor": 5
}
