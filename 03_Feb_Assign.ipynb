{
 "cells": [
  {
   "cell_type": "code",
   "execution_count": 1,
   "id": "a54e83e3-3a15-4d15-beb2-50d2eb2437aa",
   "metadata": {},
   "outputs": [
    {
     "name": "stdout",
     "output_type": "stream",
     "text": [
      "1\n",
      "3\n",
      "5\n",
      "7\n",
      "9\n",
      "11\n",
      "13\n",
      "15\n",
      "17\n",
      "19\n",
      "21\n",
      "23\n"
     ]
    }
   ],
   "source": [
    "##Q1.Which keyword is used to create a function? Create a function to return a list of odd numbers in the\n",
    "# range of 1 to 25.4\n",
    "    #def keyword is used to create a function.\n",
    "def to_check_prime():\n",
    "    for i in range(1, 25):\n",
    "        if i % 2 == 1:\n",
    "            print(i)\n",
    "to_check_prime()    \n"
   ]
  },
  {
   "cell_type": "code",
   "execution_count": 2,
   "id": "ad0f2c08-38d5-49ce-b75b-053a702a5ace",
   "metadata": {},
   "outputs": [
    {
     "name": "stdout",
     "output_type": "stream",
     "text": [
      "Hello\n",
      "Welcome\n",
      "Mr\n",
      "in pwskills\n"
     ]
    }
   ],
   "source": [
    "##Q2.Why *args and **kwargs is used in some functions? Create a function each for \n",
    "# *args and **kwargs to demonstrate their use.\n",
    "     # The special syntax *args in function definitions in python is used to \n",
    "      # pass a variable number of arguments to a function. It is used to pass\n",
    "      # a non-key worded, variable-length argument list.\n",
    "def myFun(*argv):\n",
    "    for arg in argv:\n",
    "        print(arg)\n",
    "  \n",
    "myFun('Hello', 'Welcome', 'Mr', 'in pwskills')"
   ]
  },
  {
   "cell_type": "code",
   "execution_count": 6,
   "id": "67bc876d-ea87-44c3-9194-725b3ed18b3f",
   "metadata": {},
   "outputs": [
    {
     "name": "stdout",
     "output_type": "stream",
     "text": [
      "first == pw is \n",
      "mid == for\n",
      "last == skilss\n"
     ]
    }
   ],
   "source": [
    "    # The special syntax **kwargs in function definitions in python is used to pass\n",
    "      # a keyworded, variable-length argument list. We use the name kwargs with the \n",
    "      # double star. The reason is that the double star allows us to pass through \n",
    "      # keyword arguments (and any number of them).\n",
    "def myFun(**kwargs):\n",
    "     for key, value in kwargs.items():\n",
    "        print(\"%s == %s\" % (key, value))\n",
    "  \n",
    "myFun(first='pw is ', mid='for', last='skilss')\n",
    "\n"
   ]
  },
  {
   "cell_type": "code",
   "execution_count": 8,
   "id": "b4530f52-6055-4eb2-8f09-a2811bca6014",
   "metadata": {},
   "outputs": [
    {
     "name": "stdout",
     "output_type": "stream",
     "text": [
      "2\n",
      "4\n",
      "6\n",
      "8\n",
      "10\n"
     ]
    }
   ],
   "source": [
    "##Q3.What is an iterator in python? Name the method used to initialise the iterator object and the method\n",
    "# used for iteration.Use these methods to print the first five elements of the given list [2, 4, 6, 8, 10, 12, 14,\n",
    "# 16, 18, 20].\n",
    "      # Iterators are objects that can be iterated on, which means that the \n",
    "      # user can go over their values one by one. In Python, an iterator is \n",
    "      # an object used to iterate across iterable objects such as lists, \n",
    "      # tuples, dicts, and sets. The iter() method is used to initialize \n",
    "      # the iterator object. Iteration is accomplished through the usage \n",
    "      # of the next() method.\n",
    "list = [2, 4, 6, 8, 10, 12, 14, 16, 18, 20]\n",
    "list = iter(list)\n",
    "while True:\n",
    "  number = next(list)\n",
    "  print(number)\n",
    "  if number == 10:\n",
    "    break\n"
   ]
  },
  {
   "cell_type": "code",
   "execution_count": null,
   "id": "20c93cd1-5dd2-49fc-9d72-5231221185e2",
   "metadata": {},
   "outputs": [],
   "source": [
    "##Q4.What is a generator function in python? Why yield keyword is used? Give an example of a generator\n",
    "# function.\n",
    "  # Generator function in Python is a function that is commonly used to return \n",
    "  # a sequence of values. Generator function behaves like a normal function but \n",
    "  # rather it uses a yield statement to return a value instead of return statement. \n",
    "  # If the body of a function contains yield statement, the function automatically \n",
    "  # becomes a generator function.\n",
    "\n",
    "def count(n):\n",
    "    for i in range(0, n+1):\n",
    "        yield i\n",
    "gen_obj = count(10)\n",
    "print(gen_obj)\n",
    "print(list(gen_obj))"
   ]
  },
  {
   "cell_type": "code",
   "execution_count": 24,
   "id": "95283e4f-c07b-47f6-bfae-ca70aec7bf87",
   "metadata": {},
   "outputs": [
    {
     "name": "stdin",
     "output_type": "stream",
     "text": [
      "Type how many turn you want  10\n"
     ]
    },
    {
     "name": "stdout",
     "output_type": "stream",
     "text": [
      "0\n",
      "1\n",
      "1\n",
      "2\n",
      "3\n",
      "5\n",
      "8\n",
      "13\n",
      "21\n",
      "34\n"
     ]
    }
   ],
   "source": [
    "##Q6.Write a python program to print the first 10 \n",
    "# Fibonacci numbers using a while loop.\n",
    "terms = int(input(\"Type how many turn you want \"))\n",
    "a,b=0,1\n",
    "counter = 0\n",
    "while counter < terms :\n",
    "    print(a)\n",
    "    c = a+ b\n",
    "    a =b\n",
    "    b =c\n",
    "    counter += 1"
   ]
  },
  {
   "cell_type": "code",
   "execution_count": 25,
   "id": "05d5fdf3-9fad-47a4-89c5-f655216c1c1f",
   "metadata": {},
   "outputs": [
    {
     "data": {
      "text/plain": [
       "['p', 'w', 's', 'k', 'i', 'l', 's', 's']"
      ]
     },
     "execution_count": 25,
     "metadata": {},
     "output_type": "execute_result"
    }
   ],
   "source": [
    "##Q7.Write a List Comprehension to iterate through the given string: ‘pwskills’.\n",
    "##Expected output: ['p', 'w', 's', 'k', 'i', 'l', 'l', 's']\n",
    "s = 'pwskilss'\n",
    "[i for i in s]  "
   ]
  },
  {
   "cell_type": "code",
   "execution_count": 27,
   "id": "fa0c953f-8d3b-4a92-a1b2-cbc1045691ee",
   "metadata": {},
   "outputs": [
    {
     "name": "stdin",
     "output_type": "stream",
     "text": [
      "Enter the number to check is it Palindrom or not\n",
      " 123\n"
     ]
    },
    {
     "name": "stdout",
     "output_type": "stream",
     "text": [
      "The reveerse number is : 321\n",
      "The number 123 is Not a Palindrome. \n"
     ]
    }
   ],
   "source": [
    "##Q8.Write a python program to check whether a given number is \n",
    "# Palindrome or not using a while loop.\n",
    "number = int(input(\"Enter the number to check is it Palindrom or not\\n\"))\n",
    "num = number \n",
    "reverse = 0\n",
    "while number > 0:\n",
    "    dig = number % 10 \n",
    "    reverse = reverse * 10 + dig\n",
    "    number = number // 10\n",
    "print(f\"The reveerse number is : {reverse}\")\n",
    "if num == reverse:\n",
    "    print(f\"The  number {num} is Palindrome. \")\n",
    "else:\n",
    "    print(f\"The number {num} is Not a Palindrome. \")"
   ]
  },
  {
   "cell_type": "code",
   "execution_count": null,
   "id": "cdf09b87-510a-44e8-b67e-9a5d2caba996",
   "metadata": {},
   "outputs": [],
   "source": []
  }
 ],
 "metadata": {
  "kernelspec": {
   "display_name": "Python 3 (ipykernel)",
   "language": "python",
   "name": "python3"
  },
  "language_info": {
   "codemirror_mode": {
    "name": "ipython",
    "version": 3
   },
   "file_extension": ".py",
   "mimetype": "text/x-python",
   "name": "python",
   "nbconvert_exporter": "python",
   "pygments_lexer": "ipython3",
   "version": "3.10.8"
  }
 },
 "nbformat": 4,
 "nbformat_minor": 5
}
